{
 "cells": [
  {
   "cell_type": "code",
   "execution_count": 2,
   "metadata": {},
   "outputs": [
    {
     "name": "stdout",
     "output_type": "stream",
     "text": [
      "Type of Config File :  <class 'dict'>\n",
      "Keys in Config File :  dict_keys(['sql_steps'])\n",
      "The Values of sql_steps is a list:  True\n",
      "Value of Key 'sql_steps' :  [{'sql_num': '1', 'action': 'read|publish', 'sql': \"select original_claim_num_cd, parent_claim_num_cd, child_claim_num_cd, claim_ordinal_value_num from ods_vw_service.mv_consume_claim_ln_reprocess_assn where claim_ln_reprocess_tp_cd = 'RORGCL' union select original_claim_num_cd, parent_claim_num_cd, child_claim_num_cd, claim_ordinal_value_num from ods_vw_service.mv_consume_claim_ln_reprocess_assn where claim_ln_reprocess_tp_cd != 'RORGCL' and parent_claim_num_cd != child_claim_num_cd\", 'temp_view': 'consume_claim_ln_reprocess_assn', 'next_sql': '2'}, {'sql_num': '2', 'action': 'write|parquet', 'sql': 'select * from consume_claim_ln_reprocess_assn', 'location': 'sandbox/claims_reprocess/06-07/claim_ln_repr_ordinal_2/', 'mode': 'overwrite', 'next_sql': '3'}, {'sql_num': '3', 'action': 'read|parquet', 'location': 'sandbox/claims_reprocess/06-07/claim_ln_repr_ordinal_2/', 'temp_view': 'claim_ln_repr_ordinal', 'next_sql': '4'}, {'sql_num': '4', 'action': 'write|publish', 'temp_view': 'claim_ln_repr_ordinal', 'schema_name': 'ods_claim', 'table_name': 'claim_header_version_step_new_1', 'truncate': 0, 'next_sql': '5'}, {'sql_num': '5', 'action': 'read|publish', 'sql': 'select a.original_claim_num_cd as claim_num_cd , b.original_claim_num_cd as parent_claim_num_cd from ods_claim.claim_header_version_step_new_1 a, ods_claim.claim_header_version_step_new_1 b where a.original_claim_num_cd<>b.original_claim_num_cd and (a.original_claim_num_cd=b.parent_claim_num_cd or a.original_claim_num_cd=b.child_claim_num_cd )', 'temp_view': 'filtered_claims', 'next_sql': '6'}, {'sql_num': '6', 'action': 'write|parquet', 'sql': 'select * from filtered_claims', 'location': 'sandbox/claims_reprocess/06-07/claims_remove/', 'mode': 'overwrite', 'next_sql': '7'}, {'sql_num': '7', 'action': 'read|parquet', 'location': 'sandbox/claims_reprocess/06-07/claims_remove/', 'temp_view': 'claims_remove', 'cache': 'true', 'next_sql': '8'}, {'sql_num': '8', 'action': 'read|temp_view', 'sql': 'select step1.* from claim_ln_repr_ordinal step1 left join claims_remove r on step1.original_claim_num_cd = r.claim_num_cd where (step1.claim_ordinal_value_num !=0 and r.claim_num_cd = step1.original_claim_num_cd)', 'temp_view': 'claim_header_version_delete', 'next_sql': '9'}, {'sql_num': '9', 'action': 'read|temp_view', 'sql': 'select original_claim_num_cd, step2.parent_claim_num_cd, child_claim_num_cd, case when r.claim_num_cd is null then claim_ordinal_value_num else  (claim_ordinal_value_num + 1000) end as  claim_ordinal_value_num  from claim_header_version_delete step2 left join claims_remove r on claim_num_cd = original_claim_num_cd where step2.original_claim_num_cd = r.claim_num_cd', 'temp_view': 'claim_header_version_update1', 'next_sql': '10'}, {'sql_num': '10', 'action': 'read|temp_view', 'sql': 'select case when step3.original_claim_num_cd != r.claim_num_cd then original_claim_num_cd else r.parent_claim_num_cd end as original_claim_num_cd, step3.parent_claim_num_cd, child_claim_num_cd,   claim_ordinal_value_num  from claim_header_version_update1 step3 left join claims_remove r on claim_num_cd = original_claim_num_cd where step3.original_claim_num_cd = r.claim_num_cd', 'temp_view': 'claim_header_version_update2', 'next_sql': '11'}, {'sql_num': '11', 'action': 'read|temp_view', 'sql': 'select original_claim_num_cd, parent_claim_num_cd, child_claim_num_cd, claim_ordinal_value_num as claim_line_ordinal_value_num, claim_ordinal_value_num_final-1 as claim_header_version from ( select *, row_number() over(partition by original_claim_num_cd order by claim_ordinal_value_num) as claim_ordinal_value_num_final from claim_header_version_update2)a', 'temp_view': 'claim_header_version_step5', 'next_sql': '12'}, {'sql_num': '12', 'action': 'write|delta', 'sql': 'select * from claim_header_version_step5', 'schema_name': 'ods_ref_claim', 'table_name': 'claim_header_version_2', 'next_sql': '13'}, {'sql_num': '13', 'action': 'write|publish', 'temp_view': 'claim_header_version_step5', 'schema_name': 'ods_claim', 'table_name': 'claim_header_version_final_1', 'truncate': 0, 'next_sql': '14'}]\n",
      "Datatype <class 'dict'> Matched\n",
      "Keys Found in Block:  0\n",
      "Keys not Found in Block:  1\n",
      "Keys Found in Block:  2\n",
      "Keys Found in Block:  3\n",
      "Keys Found in Block:  4\n",
      "Keys not Found in Block:  5\n",
      "Keys Found in Block:  6\n",
      "Keys Found in Block:  7\n",
      "Keys Found in Block:  8\n",
      "Keys Found in Block:  9\n",
      "Keys Found in Block:  10\n",
      "Keys not Found in Block:  11\n",
      "Keys Found in Block:  12\n"
     ]
    }
   ],
   "source": [
    "import json\n",
    "with open('C:/Users/dvive/OneDrive/Desktop/reactapp/Project/Data/config.json', \"r\") as json_file:\n",
    "    config_file = json_file.read()\n",
    "\n",
    "config_file = json.loads(config_file) \n",
    "\n",
    "primary_key = \"sql_steps\"\n",
    "\n",
    "print(\"Type of Config File : \",type(config_file))\n",
    "print(\"Keys in Config File : \",config_file.keys())\n",
    "print(\"The Values of sql_steps is a list: \",isinstance(config_file[\"sql_steps\"],list))\n",
    "print(\"Value of Key 'sql_steps' : \",config_file['sql_steps'])\n",
    "\n",
    "config_file.setdefault(primary_key,\"Key Not found\") \n",
    "\n",
    "def validate_datatype(var,datatype):\n",
    "    if type(var) == datatype:\n",
    "        return f\"Datatype {datatype} Matched\"\n",
    "    else:\n",
    "        return f\"Datatype {datatype} not Matched\"\n",
    "    \n",
    "print(validate_datatype(config_file,dict))\n",
    "\n",
    "def check_keys(*args):\n",
    "    for i in range(len(config_file[primary_key])):\n",
    "        if config_file[primary_key][i].get(args[0]) is not None and config_file[primary_key][i].get(args[1]) is not None and config_file[primary_key][i].get(args[2]):\n",
    "            print(\"Keys Found in Block: \",i)\n",
    "        else:\n",
    "            print(\"Keys not Found in Block: \",i)\n",
    "    \n",
    "check_keys(\"sql_num\",\"temp_view\",\"next_sql\")    "
   ]
  },
  {
   "cell_type": "code",
   "execution_count": null,
   "metadata": {},
   "outputs": [],
   "source": []
  }
 ],
 "metadata": {
  "kernelspec": {
   "display_name": "base",
   "language": "python",
   "name": "python3"
  },
  "language_info": {
   "codemirror_mode": {
    "name": "ipython",
    "version": 3
   },
   "file_extension": ".py",
   "mimetype": "text/x-python",
   "name": "python",
   "nbconvert_exporter": "python",
   "pygments_lexer": "ipython3",
   "version": "3.9.12"
  },
  "orig_nbformat": 4
 },
 "nbformat": 4,
 "nbformat_minor": 2
}
